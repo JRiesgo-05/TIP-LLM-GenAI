{
 "cells": [
  {
   "cell_type": "markdown",
   "id": "2c482fb2",
   "metadata": {},
   "source": [
    "## Hello world of LLM!"
   ]
  },
  {
   "cell_type": "code",
   "execution_count": 13,
   "id": "c979e90a",
   "metadata": {},
   "outputs": [],
   "source": [
    "from google import genai\n",
    "from dotenv import load_dotenv\n",
    "import os\n",
    "\n",
    "# configuration of llm\n",
    "from google.genai import types\n",
    "\n",
    "# Load environment variables from .env file\n",
    "load_dotenv()\n",
    "# Ensure the API key is set in the environment\n",
    "api_key = os.getenv(\"GOOGLE_GENAI_API_KEY\")\n",
    "system_prompt_default = \"You are an assistant that provides concise and accurate answers to user queries. Always say 'Thanks for your question!' at the end of your response.\"\n",
    "def call_llm(prompt: str, system_prompt: str = system_prompt_default) -> str:\n",
    "    \"\"\"\n",
    "    Calls the Google GenAI LLM with the provided prompt and returns the response.\n",
    "    \n",
    "    Args:\n",
    "        prompt (str): The input prompt to send to the LLM.\n",
    "        \n",
    "    Returns:\n",
    "        str: The response from the LLM.\n",
    "    \"\"\"\n",
    "    client = genai.Client(api_key=api_key)\n",
    "    response = client.models.generate_content(\n",
    "        model=\"gemini-2.0-flash\",\n",
    "        contents=prompt,\n",
    "        # config \n",
    "        config=types.GenerateContentConfig(\n",
    "            temperature=0.2,\n",
    "            max_output_tokens=1000,\n",
    "            top_p=0.95,\n",
    "            top_k=40,\n",
    "            system_instruction=system_prompt, \n",
    "        ),\n",
    "        \n",
    "    )\n",
    "    return response.text.strip() if response.text else \"\""
   ]
  },
  {
   "cell_type": "code",
   "execution_count": 14,
   "id": "b382b282",
   "metadata": {},
   "outputs": [
    {
     "name": "stdout",
     "output_type": "stream",
     "text": [
      "LLM Response: The capital of France is Paris.\n",
      "Thanks for your question!\n"
     ]
    }
   ],
   "source": [
    "# Sample prompt\n",
    "result = call_llm(\"What is the capital of France?\")\n",
    "print(f\"LLM Response: {result}\")"
   ]
  }
 ],
 "metadata": {
  "kernelspec": {
   "display_name": ".venv",
   "language": "python",
   "name": "python3"
  },
  "language_info": {
   "codemirror_mode": {
    "name": "ipython",
    "version": 3
   },
   "file_extension": ".py",
   "mimetype": "text/x-python",
   "name": "python",
   "nbconvert_exporter": "python",
   "pygments_lexer": "ipython3",
   "version": "3.10.12"
  }
 },
 "nbformat": 4,
 "nbformat_minor": 5
}
